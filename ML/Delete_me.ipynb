{
 "cells": [
  {
   "cell_type": "code",
   "execution_count": 19,
   "id": "bda9bf95",
   "metadata": {},
   "outputs": [
    {
     "name": "stdout",
     "output_type": "stream",
     "text": [
      "The autoreload extension is already loaded. To reload it, use:\n",
      "  %reload_ext autoreload\n"
     ]
    }
   ],
   "source": [
    "from load_data import load_pyg_obj\n",
    "import torch\n",
    "from torch_geometric.loader import DataLoader\n",
    "from torch.utils.data import random_split\n",
    "\n",
    "\n",
    "import random\n",
    "import numpy as np\n",
    "from sklearn.metrics import f1_score\n",
    "from utils import fix_target_shapes,remove_unused_onehot_columns,set_seed,filter_metals\n",
    "from mofstructure import mofdeconstructor\n",
    "\n",
    "from fairmofsyncondition.read_write.coords_library import pytorch_geometric_to_ase\n",
    "\n",
    "from pymatgen.io.ase import AseAtomsAdaptor\n",
    "from pymatgen.symmetry.analyzer import SpacegroupAnalyzer\n",
    "\n",
    "convert_struct = {'cubic':0, 'hexagonal':1, 'monoclinic':2, 'orthorhombic':3, 'tetragonal':4,'triclinic':5, 'trigonal':6}\n",
    "\n",
    "%load_ext autoreload\n",
    "%autoreload 2"
   ]
  },
  {
   "cell_type": "markdown",
   "id": "2a212130",
   "metadata": {},
   "source": [
    "# This code gives you tha name of not used metal salts"
   ]
  },
  {
   "cell_type": "code",
   "execution_count": 20,
   "id": "17366789",
   "metadata": {},
   "outputs": [
    {
     "name": "stdout",
     "output_type": "stream",
     "text": [
      "Loading precomputed dataset...\n"
     ]
    }
   ],
   "source": [
    "from mofstructure.structure import MOFstructure\n",
    "from tqdm import tqdm\n",
    "import os\n",
    "convert_metals = {j:i for i,j in enumerate(mofdeconstructor.transition_metals()[1:])}\n",
    "\n",
    "\n",
    "device = torch.device('cuda' if torch.cuda.is_available() else 'cpu')\n",
    "set_seed(seed=42)\n",
    "\n",
    "data_in = load_pyg_obj(path_to_mdb=\"../../data/mof_syncondition_data/\")\n",
    "dataset = fix_target_shapes(data_in, \"metal_salts\")\n",
    "dataset = remove_unused_onehot_columns(dataset, \"metal_salts\")\n",
    "\n",
    "\n",
    "bad = []\n",
    "good = []\n",
    "\n",
    "if os.path.exists(\"../../dataset_cleen_all_info.pt\"):\n",
    "    print(\"Loading precomputed dataset...\")\n",
    "    dataset = torch.load(\"../../dataset_cleen_all_info.pt\")\n",
    "else:\n",
    "    print(\"Computing dataset with all info...\")\n",
    "    for d in tqdm(dataset):\n",
    "        try:\n",
    "            # =======================\n",
    "            # Parte 1: atomic one-hot\n",
    "            # =======================\n",
    "            node_features = d.x.numpy()\n",
    "            atom_num = node_features[:, 0].astype(int)\n",
    "            a, b = np.unique(atom_num, return_counts=True)\n",
    "            emb = torch.zeros(120)\n",
    "            for aa, bb in zip(a, b):\n",
    "                emb[aa] = bb\n",
    "            d.atomic_one_hot = emb\n",
    "            \n",
    "            # =======================\n",
    "            # Parte 2: struttura ASE\n",
    "            # =======================\n",
    "            ase_atoms = pytorch_geometric_to_ase(d)\n",
    "            stru = MOFstructure(ase_atoms)\n",
    "            pymat = AseAtomsAdaptor.get_structure(ase_atoms)\n",
    "            \n",
    "            # =======================\n",
    "            # Parte 3: OMS\n",
    "            # =======================\n",
    "            emb = torch.zeros(96)\n",
    "            tmp_dict = dict()\n",
    "            for i in stru.get_oms()[\"metal_info\"]:\n",
    "                cord = i[\"coordination_number\"]\n",
    "                metal = i[\"metal\"]\n",
    "\n",
    "                if metal in tmp_dict:\n",
    "                    if cord > tmp_dict[metal]:\n",
    "                        tmp_dict[metal] = cord\n",
    "                else:\n",
    "                    tmp_dict[metal] = cord\n",
    "\n",
    "            for i, j in tmp_dict.items():\n",
    "                emb[convert_metals[i]] = j\n",
    "            d.cordinates = emb\n",
    "            \n",
    "            # =======================\n",
    "            # Parte 4: spazio e sistema cristallino\n",
    "            # =======================\n",
    "            sga = SpacegroupAnalyzer(pymat)\n",
    "            space_group_number = sga.get_space_group_number()\n",
    "            emb = torch.zeros(231)\n",
    "            emb[space_group_number] = 1\n",
    "            d.space_group_number = emb\n",
    "\n",
    "            get_crystal_system = sga.get_crystal_system()\n",
    "            emb = torch.zeros(7)\n",
    "            emb[convert_struct[get_crystal_system]] = 1\n",
    "            d.crystal_system = emb\n",
    "            # =======================\n",
    "            # Parte 5: altri attributi\n",
    "            # =======================\n",
    "            d.oms = d.oms.view(1, 1).float()\n",
    "\n",
    "            ###################### no porosity is too long to compute\n",
    "            #por = stru.get_porosity()\n",
    "            #por = list(por.values())\n",
    "            #d.porosity = torch.tensor(por)\n",
    "\n",
    "            d.modified_scherrer = None\n",
    "            d.microstrain = None\n",
    "\n",
    "            # Se arrivo qui senza eccezioni → struttura buona\n",
    "            good.append(d)\n",
    "        except Exception:\n",
    "            bad.append(d)\n",
    "            continue\n",
    "    torch.save(good, \"../../dataset_cleen_all_info.pt\")   # salva lista di Data"
   ]
  },
  {
   "cell_type": "code",
   "execution_count": 21,
   "id": "17228f51",
   "metadata": {},
   "outputs": [],
   "source": [
    "import torch\n",
    "import torch.nn as nn\n",
    "import torch.nn.functional as F\n",
    "import numpy as np\n",
    "from torch_geometric.nn import GINEConv, global_mean_pool\n",
    "from sklearn.metrics import f1_score\n",
    "\n",
    "# ==================== Utils & setup ====================\n",
    "\n",
    "device = torch.device('cuda' if torch.cuda.is_available() else 'cpu')\n",
    "\n",
    "def set_seed(seed=42):\n",
    "    import random, os\n",
    "    random.seed(seed)\n",
    "    np.random.seed(seed)\n",
    "    torch.manual_seed(seed)\n",
    "    torch.cuda.manual_seed_all(seed)\n",
    "    torch.backends.cudnn.deterministic = True\n",
    "    torch.backends.cudnn.benchmark = False\n",
    "\n",
    "# Filtra classi rare (come nel tuo codice)\n",
    "Y = [d.metal_salts.argmax(dim=1).item() for d in dataset]\n",
    "a,b = np.unique(Y, return_counts=True)\n",
    "conv_y = {i:j for i,j in zip(a,b)}"
   ]
  },
  {
   "cell_type": "code",
   "execution_count": 22,
   "id": "a95f4b97",
   "metadata": {},
   "outputs": [],
   "source": [
    "bad = [d for d in dataset if conv_y[d.metal_salts.argmax(dim=1).item()] <= 5]\n",
    "#good = [d for d in dataset if conv_y[d.metal_salts.argmax(dim=1).item()] > 5]\n",
    "\n",
    "\n",
    "from fairmofsyncondition.read_write import cheminfo2iupac, coords_library, filetyper"
   ]
  },
  {
   "cell_type": "code",
   "execution_count": 23,
   "id": "7bfd5f7e",
   "metadata": {},
   "outputs": [],
   "source": [
    "names = []\n",
    "for b in bad:\n",
    "    names.append(filetyper.category_names()[\"metal_salts\"][b.metal_salts.argmax(dim=1).item()])\n",
    "names,b = np.unique(names, return_counts=True)"
   ]
  },
  {
   "cell_type": "code",
   "execution_count": 26,
   "id": "10dfee0c",
   "metadata": {},
   "outputs": [],
   "source": [
    "with open(\"not_handeled_metal_salts.txt\", \"w\") as f:\n",
    "    for name in names:\n",
    "        f.write(name + \"\\n\")\n"
   ]
  },
  {
   "cell_type": "code",
   "execution_count": null,
   "id": "b485113a",
   "metadata": {},
   "outputs": [],
   "source": []
  },
  {
   "cell_type": "code",
   "execution_count": null,
   "id": "cf0f09ec",
   "metadata": {},
   "outputs": [
    {
     "data": {
      "text/plain": [
       "5"
      ]
     },
     "execution_count": 14,
     "metadata": {},
     "output_type": "execute_result"
    }
   ],
   "source": []
  }
 ],
 "metadata": {
  "kernelspec": {
   "display_name": "fairmof",
   "language": "python",
   "name": "python3"
  },
  "language_info": {
   "codemirror_mode": {
    "name": "ipython",
    "version": 3
   },
   "file_extension": ".py",
   "mimetype": "text/x-python",
   "name": "python",
   "nbconvert_exporter": "python",
   "pygments_lexer": "ipython3",
   "version": "3.11.13"
  }
 },
 "nbformat": 4,
 "nbformat_minor": 5
}
