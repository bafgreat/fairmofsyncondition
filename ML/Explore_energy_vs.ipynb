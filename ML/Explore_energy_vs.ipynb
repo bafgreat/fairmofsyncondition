{
 "cells": [
  {
   "cell_type": "markdown",
   "id": "09ebd493",
   "metadata": {},
   "source": [
    "# explore correlation!"
   ]
  },
  {
   "cell_type": "code",
   "execution_count": null,
   "id": "d065c799",
   "metadata": {},
   "outputs": [],
   "source": []
  },
  {
   "cell_type": "code",
   "execution_count": 1,
   "id": "f59a243a",
   "metadata": {},
   "outputs": [
    {
     "name": "stderr",
     "output_type": "stream",
     "text": [
      "/home/antonio/miniconda3/envs/fairmof/lib/python3.11/site-packages/tqdm/auto.py:21: TqdmWarning: IProgress not found. Please update jupyter and ipywidgets. See https://ipywidgets.readthedocs.io/en/stable/user_install.html\n",
      "  from .autonotebook import tqdm as notebook_tqdm\n"
     ]
    }
   ],
   "source": [
    "batch_size = 128\n",
    "from load_data import LMDBDataset\n",
    "\n",
    "def load_pyg_obj_energy(path_to_mdb=\"mof_syncondition_data\"):\n",
    "    data = []\n",
    "    for d in LMDBDataset(lmdb_path=path_to_mdb):\n",
    "        d.x = d.x.float()\n",
    "        data.append(d)\n",
    "    return data"
   ]
  },
  {
   "cell_type": "code",
   "execution_count": 2,
   "id": "4db291e1",
   "metadata": {},
   "outputs": [],
   "source": [
    "\n",
    "# ---- Carica dataset\n",
    "dataset = load_pyg_obj_energy(path_to_mdb=\"../../data/stability_energy_data/\")\n",
    "assert len(dataset) > 0, \"Dataset vuoto!\""
   ]
  },
  {
   "cell_type": "code",
   "execution_count": 17,
   "id": "3d087590",
   "metadata": {},
   "outputs": [],
   "source": [
    "import torch\n",
    "dataset[0]\n",
    "\n",
    "\n",
    "spa = [i.space_group_number.argmax().item() for i in dataset]\n",
    "cry = [i.crystal_system.argmax().item() for i in dataset]\n",
    "ene = [i.energy for i in dataset]"
   ]
  },
  {
   "cell_type": "code",
   "execution_count": null,
   "id": "b1e63c82",
   "metadata": {},
   "outputs": [],
   "source": []
  },
  {
   "cell_type": "code",
   "execution_count": null,
   "id": "fd34ce6f",
   "metadata": {},
   "outputs": [],
   "source": []
  },
  {
   "cell_type": "code",
   "execution_count": null,
   "id": "32760f46",
   "metadata": {},
   "outputs": [],
   "source": [
    "energy vs space_group_number\n",
    "energy vs crystal_system\n",
    "energy vs cordinates"
   ]
  },
  {
   "cell_type": "code",
   "execution_count": null,
   "id": "288a6246",
   "metadata": {},
   "outputs": [],
   "source": []
  },
  {
   "cell_type": "code",
   "execution_count": null,
   "id": "04b15b0f",
   "metadata": {},
   "outputs": [],
   "source": []
  },
  {
   "cell_type": "code",
   "execution_count": null,
   "id": "ff93f23b",
   "metadata": {},
   "outputs": [],
   "source": []
  },
  {
   "cell_type": "code",
   "execution_count": null,
   "id": "9b2da52f",
   "metadata": {},
   "outputs": [],
   "source": []
  }
 ],
 "metadata": {
  "kernelspec": {
   "display_name": "fairmof",
   "language": "python",
   "name": "python3"
  },
  "language_info": {
   "codemirror_mode": {
    "name": "ipython",
    "version": 3
   },
   "file_extension": ".py",
   "mimetype": "text/x-python",
   "name": "python",
   "nbconvert_exporter": "python",
   "pygments_lexer": "ipython3",
   "version": "3.11.13"
  }
 },
 "nbformat": 4,
 "nbformat_minor": 5
}
