{
 "cells": [
  {
   "cell_type": "markdown",
   "id": "09ebd493",
   "metadata": {},
   "source": [
    "# explore correlation!"
   ]
  },
  {
   "cell_type": "code",
   "execution_count": null,
   "id": "d065c799",
   "metadata": {},
   "outputs": [],
   "source": []
  },
  {
   "cell_type": "code",
   "execution_count": 1,
   "id": "f59a243a",
   "metadata": {},
   "outputs": [
    {
     "name": "stderr",
     "output_type": "stream",
     "text": [
      "/home/antonio/miniconda3/envs/fairmof/lib/python3.11/site-packages/tqdm/auto.py:21: TqdmWarning: IProgress not found. Please update jupyter and ipywidgets. See https://ipywidgets.readthedocs.io/en/stable/user_install.html\n",
      "  from .autonotebook import tqdm as notebook_tqdm\n"
     ]
    }
   ],
   "source": [
    "batch_size = 128\n",
    "from load_data import LMDBDataset\n",
    "\n",
    "def load_pyg_obj_energy(path_to_mdb=\"mof_syncondition_data\"):\n",
    "    data = []\n",
    "    for d in LMDBDataset(lmdb_path=path_to_mdb):\n",
    "        d.x = d.x.float()\n",
    "        data.append(d)\n",
    "    return data"
   ]
  },
  {
   "cell_type": "code",
   "execution_count": 2,
   "id": "4db291e1",
   "metadata": {},
   "outputs": [],
   "source": [
    "\n",
    "# ---- Carica dataset\n",
    "dataset = load_pyg_obj_energy(path_to_mdb=\"../../data/stability_energy_data/\")\n",
    "assert len(dataset) > 0, \"Dataset vuoto!\""
   ]
  },
  {
   "cell_type": "code",
   "execution_count": 4,
   "id": "3d087590",
   "metadata": {},
   "outputs": [
    {
     "data": {
      "text/plain": [
       "Data(x=[94, 4], edge_index=[2, 109], edge_attr=[109, 1], lattice=[3, 3], atomic_one_hot=[120], cordinates=[1], space_group_number=[231], crystal_system=[7], oms=[1, 1], energy=-328.656086112489)"
      ]
     },
     "execution_count": 4,
     "metadata": {},
     "output_type": "execute_result"
    }
   ],
   "source": [
    "dataset[0]"
   ]
  },
  {
   "cell_type": "code",
   "execution_count": null,
   "id": "32760f46",
   "metadata": {},
   "outputs": [
    {
     "ename": "SyntaxError",
     "evalue": "invalid syntax (3893984462.py, line 1)",
     "output_type": "error",
     "traceback": [
      "  \u001b[36mCell\u001b[39m\u001b[36m \u001b[39m\u001b[32mIn[6]\u001b[39m\u001b[32m, line 1\u001b[39m\n\u001b[31m    \u001b[39m\u001b[31menergy vs space_group_number\u001b[39m\n           ^\n\u001b[31mSyntaxError\u001b[39m\u001b[31m:\u001b[39m invalid syntax\n"
     ]
    }
   ],
   "source": [
    "energy vs space_group_number\n",
    "energy vs crystal_system\n",
    "energy vs cordinates"
   ]
  },
  {
   "cell_type": "code",
   "execution_count": null,
   "id": "288a6246",
   "metadata": {},
   "outputs": [],
   "source": []
  },
  {
   "cell_type": "code",
   "execution_count": null,
   "id": "04b15b0f",
   "metadata": {},
   "outputs": [],
   "source": []
  },
  {
   "cell_type": "code",
   "execution_count": null,
   "id": "ff93f23b",
   "metadata": {},
   "outputs": [],
   "source": []
  },
  {
   "cell_type": "code",
   "execution_count": null,
   "id": "9b2da52f",
   "metadata": {},
   "outputs": [],
   "source": []
  }
 ],
 "metadata": {
  "kernelspec": {
   "display_name": "fairmof",
   "language": "python",
   "name": "python3"
  },
  "language_info": {
   "codemirror_mode": {
    "name": "ipython",
    "version": 3
   },
   "file_extension": ".py",
   "mimetype": "text/x-python",
   "name": "python",
   "nbconvert_exporter": "python",
   "pygments_lexer": "ipython3",
   "version": "3.11.13"
  }
 },
 "nbformat": 4,
 "nbformat_minor": 5
}
